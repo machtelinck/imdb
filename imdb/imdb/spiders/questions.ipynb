{
 "cells": [
  {
   "cell_type": "code",
   "execution_count": 3,
   "metadata": {},
   "outputs": [],
   "source": [
    "#Quel est le film le plus long ?\n",
    "#Quels sont les 5 films les mieux notés ?\n",
    "#Dans combien de films a joué Morgan Freeman ? Tom Cruise ?\n",
    "#Quels sont les 3 meilleurs films d’horreur ? Dramatique ? Comique ?\n",
    "#Parmi les 100 films les mieux notés, quel pourcentage sont américains ? Français ?\n",
    "#Quel est la durée moyenne d’un film en fonction du genre ?\n"
   ]
  },
  {
   "cell_type": "code",
   "execution_count": 4,
   "metadata": {},
   "outputs": [],
   "source": [
    "import pymongo \n",
    "import pandas as pd\n",
    "import json\n",
    "import csv\n",
    "from pymongo import MongoClient\n",
    "\n",
    "client = MongoClient(\"mongodb://localhost:27017\") "
   ]
  },
  {
   "cell_type": "code",
   "execution_count": 5,
   "metadata": {},
   "outputs": [
    {
     "data": {
      "text/plain": [
       "' # DB connectivity\\n\\ndb = client.db\\ncollection = db.collection\\n\\n# Function to parse csv to dictionary\\ndef csv_to_dict():\\n    reader = csv.DictReader(open(\"bookspider_data.csv\",\\'r\\'))\\n    result = {}\\n    for row in reader:\\n        key = row.pop(\\'title\\')\\n        result[key] = row\\n    return result\\n\\n# Final insert statement\\ndb.collection.insert_one(csv_to_dict()) '"
      ]
     },
     "execution_count": 5,
     "metadata": {},
     "output_type": "execute_result"
    }
   ],
   "source": [
    "\n",
    "\n",
    "\"\"\" # DB connectivity\n",
    "\n",
    "db = client.db\n",
    "collection = db.collection\n",
    "\n",
    "# Function to parse csv to dictionary\n",
    "def csv_to_dict():\n",
    "    reader = csv.DictReader(open(\"bookspider_data.csv\",'r'))\n",
    "    result = {}\n",
    "    for row in reader:\n",
    "        key = row.pop('title')\n",
    "        result[key] = row\n",
    "    return result\n",
    "\n",
    "# Final insert statement\n",
    "db.collection.insert_one(csv_to_dict()) \"\"\""
   ]
  },
  {
   "cell_type": "code",
   "execution_count": 6,
   "metadata": {},
   "outputs": [],
   "source": [
    "filme=client.films.sc"
   ]
  },
  {
   "cell_type": "code",
   "execution_count": 7,
   "metadata": {},
   "outputs": [],
   "source": [
    "#Quel est le film le plus long ?\n",
    "# trouver l'équivalent d'un max , max durée "
   ]
  },
  {
   "cell_type": "code",
   "execution_count": 8,
   "metadata": {},
   "outputs": [],
   "source": [
    "reponse1 = filme.find().sort(\"duree\", -1).limit(1)"
   ]
  },
  {
   "cell_type": "code",
   "execution_count": 9,
   "metadata": {},
   "outputs": [
    {
     "name": "stdout",
     "output_type": "stream",
     "text": [
      "{'_id': ObjectId('639ae9489a2db5ff5038f93e'), 'title': 'Gone with the Wind', 'Score': 8, 'Genre': 'Drama,Romance,War', 'Date': 1939, 'duree': 238, 'Descriptions': 'The manipulative daughter of a Georgia plantation owner conducts a turbulent romance with a roguish profiteer during the American Civil War and Reconstruction periods.', 'Acteurs': 'Clark Gable,Vivien Leigh,Thomas Mitchell', 'Public': 'Passed', 'Pays': 'United States'}\n"
     ]
    }
   ],
   "source": [
    "for el in reponse1:\n",
    "    print(el)"
   ]
  },
  {
   "cell_type": "code",
   "execution_count": 10,
   "metadata": {},
   "outputs": [],
   "source": [
    "reponse2 = filme.find().sort(\"score\", -1).limit(5)"
   ]
  },
  {
   "cell_type": "code",
   "execution_count": 11,
   "metadata": {},
   "outputs": [
    {
     "name": "stdout",
     "output_type": "stream",
     "text": [
      "{'_id': ObjectId('639ae9489a2db5ff5038f8d5'), 'title': 'The Godfather Part II', 'Score': 9, 'Genre': 'Crime,Drama', 'Date': 1974, 'duree': 202, 'Descriptions': 'The early life and career of Vito Corleone in 1920s New York City is portrayed, while his son, Michael, expands and tightens his grip on the family crime syndicate.', 'Acteurs': 'Al Pacino,Robert De Niro,Robert Duvall', 'Public': 'R', 'Pays': 'United States,Color'}\n",
      "{'_id': ObjectId('639ae9489a2db5ff5038f8d6'), 'title': '12 Angry Men', 'Score': 9, 'Genre': 'Crime,Drama', 'Date': 1957, 'duree': 96, 'Descriptions': 'The jury in a New York City murder trial is frustrated by a single member whose skeptical caution forces them to more carefully consider the evidence before jumping to a hasty verdict.', 'Acteurs': 'Henry Fonda,Lee J. Cobb,Martin Balsam', 'Public': 'Approved', 'Pays': 'United States,Black and White'}\n",
      "{'_id': ObjectId('639ae9489a2db5ff5038f8d3'), 'title': 'The Godfather', 'Score': 9, 'Genre': 'Crime,Drama', 'Date': 1972, 'duree': 175, 'Descriptions': 'The aging patriarch of an organized crime dynasty in postwar New York City transfers control of his clandestine empire to his reluctant youngest son.', 'Acteurs': 'Marlon Brando,Al Pacino,James Caan', 'Public': 'R', 'Pays': 'United States,Color'}\n",
      "{'_id': ObjectId('639ae9489a2db5ff5038f8d2'), 'title': 'The Shawshank Redemption', 'Score': 9, 'Genre': 'Drama', 'Date': 1994, 'duree': 142, 'Descriptions': 'Two imprisoned men bond over a number of years, finding solace and eventual redemption through acts of common decency.', 'Acteurs': 'Tim Robbins,Morgan Freeman,Bob Gunton', 'Public': 'R', 'Pays': 'United States,Color'}\n",
      "{'_id': ObjectId('639ae9489a2db5ff5038f8d4'), 'title': 'The Dark Knight', 'Score': 9, 'Genre': 'Action,Crime,Drama', 'Date': 2008, 'duree': 152, 'Descriptions': 'When the menace known as the Joker wreaks havoc and chaos on the people of Gotham, Batman must accept one of the greatest psychological and physical tests of his ability to fight injustice.', 'Acteurs': 'Christian Bale,Heath Ledger,Aaron Eckhart', 'Public': 'PG-13', 'Pays': 'United States,United Kingdom,Dolby Digital,SDDS,DTS'}\n"
     ]
    }
   ],
   "source": [
    "for el in reponse2:\n",
    "    print(el)"
   ]
  },
  {
   "cell_type": "code",
   "execution_count": 12,
   "metadata": {},
   "outputs": [],
   "source": [
    "# convert it to DF "
   ]
  },
  {
   "cell_type": "code",
   "execution_count": 13,
   "metadata": {},
   "outputs": [],
   "source": [
    "#Quels sont les 5 films les mieux notés ?\n",
    "# un desc , order by equivalent ? \n"
   ]
  },
  {
   "cell_type": "markdown",
   "metadata": {},
   "source": [
    " Dans combien de films a joué Morgan Freeman ? Tom Cruise ?"
   ]
  },
  {
   "cell_type": "code",
   "execution_count": 14,
   "metadata": {},
   "outputs": [],
   "source": [
    "az = filme.count_documents({\"Acteurs\" : {\"$regex\" : \"Morgan Freeman\"}})"
   ]
  },
  {
   "cell_type": "code",
   "execution_count": 15,
   "metadata": {},
   "outputs": [
    {
     "data": {
      "text/plain": [
       "4"
      ]
     },
     "execution_count": 15,
     "metadata": {},
     "output_type": "execute_result"
    }
   ],
   "source": [
    "az"
   ]
  },
  {
   "cell_type": "code",
   "execution_count": 16,
   "metadata": {},
   "outputs": [],
   "source": [
    "az2 = filme.count_documents({\"Acteurs\" : {\"$regex\" : \"Tom Cruise\"}})"
   ]
  },
  {
   "cell_type": "code",
   "execution_count": 17,
   "metadata": {},
   "outputs": [
    {
     "data": {
      "text/plain": [
       "1"
      ]
     },
     "execution_count": 17,
     "metadata": {},
     "output_type": "execute_result"
    }
   ],
   "source": [
    "az2"
   ]
  },
  {
   "cell_type": "code",
   "execution_count": null,
   "metadata": {},
   "outputs": [],
   "source": []
  },
  {
   "cell_type": "markdown",
   "metadata": {},
   "source": [
    "Nous allons d'abord repondre a la question pour Morgan Freeman et ensuite faire la même logique pour Tom Cruise"
   ]
  },
  {
   "cell_type": "markdown",
   "metadata": {},
   "source": [
    "#Quels sont les 3 meilleurs films d’horreur ? Dramatique ? Comique ?\n"
   ]
  },
  {
   "cell_type": "code",
   "execution_count": 18,
   "metadata": {},
   "outputs": [],
   "source": [
    "query = {\"Genre\" : {\"$regex\" : \"Horror\"}}\n",
    "query2 = {\"Genre\" : {\"$regex\" : \"Drama\"}}\n",
    "query3 = {\"Genre\" : {\"$regex\" : \"Comedy\"}}\n",
    " "
   ]
  },
  {
   "cell_type": "code",
   "execution_count": 19,
   "metadata": {},
   "outputs": [],
   "source": [
    "# nous cherchons donc un exemple de code qui classe par genre \n",
    "az2 = filme.find({\"Genre\" : {\"$regex\" : \"Horror\"}})\n",
    "az3 = filme.find(query2)\n",
    "az4 = filme.find(query3)"
   ]
  },
  {
   "cell_type": "code",
   "execution_count": 20,
   "metadata": {},
   "outputs": [],
   "source": [
    "reponse_horror = az2.sort(\"Score\",-1).limit(3)\n",
    "reponse_drama = az3.sort(\"Score\",-1).limit(3)\n",
    "reponse_comedy = az4.sort(\"Score\",-1).limit(3)\n"
   ]
  },
  {
   "cell_type": "code",
   "execution_count": 21,
   "metadata": {},
   "outputs": [
    {
     "name": "stdout",
     "output_type": "stream",
     "text": [
      "{'_id': ObjectId('639ae9489a2db5ff5038f8fb'), 'title': 'The Exorcist', 'Score': 8, 'Genre': 'Horror', 'Date': 1973, 'duree': 122, 'Descriptions': 'When a teenage girl is possessed by a mysterious entity, her mother seeks the help of two priests to save her daughter.', 'Acteurs': 'Ellen Burstyn,Max von Sydow,Linda Blair', 'Public': 'R', 'Pays': 'United States,Color'}\n",
      "{'_id': ObjectId('639ae9489a2db5ff5038f942'), 'title': 'The Thing', 'Score': 8, 'Genre': 'Horror,Mystery,Sci-Fi', 'Date': 1982, 'duree': 109, 'Descriptions': 'A research team in Antarctica is hunted by a shape-shifting alien that assumes the appearance of its victims.', 'Acteurs': 'Kurt Russell,Wilford Brimley,Keith David', 'Public': 'R', 'Pays': 'United States,Canada,Color'}\n",
      "{'_id': ObjectId('639ae9489a2db5ff5038f99e'), 'title': 'The Shining', 'Score': 8, 'Genre': 'Drama,Horror', 'Date': 1980, 'duree': 146, 'Descriptions': 'A family heads to an isolated hotel for the winter where a sinister presence influences the father into violence, while his psychic son sees horrific forebodings from both past and future.', 'Acteurs': 'Jack Nicholson,Shelley Duvall,Danny Lloyd', 'Public': 'R', 'Pays': 'United Kingdom,United States,Color'}\n"
     ]
    }
   ],
   "source": [
    "for element in reponse_horror:\n",
    "    print(element)"
   ]
  },
  {
   "cell_type": "code",
   "execution_count": 22,
   "metadata": {},
   "outputs": [
    {
     "name": "stdout",
     "output_type": "stream",
     "text": [
      "{'_id': ObjectId('639ae9489a2db5ff5038f8e5'), 'title': 'Aladdin', 'Score': 8, 'Genre': 'Animation,Adventure,Comedy', 'Date': 1992, 'duree': 90, 'Descriptions': 'A kindhearted street urchin and a power-hungry Grand Vizier vie for a magic lamp that has the power to make their deepest wishes come true.', 'Acteurs': 'Scott Weinger,Robin Williams,Linda Larkin', 'Public': 'G', 'Pays': 'United States,Color'}\n",
      "{'_id': ObjectId('639ae9489a2db5ff5038f8e7'), 'title': 'Everything Everywhere All at Once', 'Score': 8, 'Genre': 'Action,Adventure,Comedy', 'Date': 2022, 'duree': 139, 'Descriptions': 'An aging Chinese immigrant is swept up in an insane adventure, in which she alone can save the world by exploring other universes connecting with the lives she could have led.', 'Acteurs': 'Michelle Yeoh,Stephanie Hsu,Jamie Lee Curtis', 'Public': 'R', 'Pays': 'United States,Color'}\n",
      "{'_id': ObjectId('639ae9489a2db5ff5038f8e8'), 'title': 'Life of Brian', 'Score': 8, 'Genre': 'Comedy', 'Date': 1979, 'duree': 94, 'Descriptions': 'Born on the original Christmas in the stable next door to Jesus Christ, Brian of Nazareth spends his life being mistaken for a messiah.', 'Acteurs': 'Graham Chapman,John Cleese,Michael Palin', 'Public': 'R', 'Pays': 'United Kingdom,Color'}\n"
     ]
    }
   ],
   "source": [
    "for elt in reponse_comedy:\n",
    "    print(elt)"
   ]
  },
  {
   "cell_type": "code",
   "execution_count": 23,
   "metadata": {},
   "outputs": [
    {
     "name": "stdout",
     "output_type": "stream",
     "text": [
      "{'_id': ObjectId('639ae9489a2db5ff5038f8d2'), 'title': 'The Shawshank Redemption', 'Score': 9, 'Genre': 'Drama', 'Date': 1994, 'duree': 142, 'Descriptions': 'Two imprisoned men bond over a number of years, finding solace and eventual redemption through acts of common decency.', 'Acteurs': 'Tim Robbins,Morgan Freeman,Bob Gunton', 'Public': 'R', 'Pays': 'United States,Color'}\n",
      "{'_id': ObjectId('639ae9489a2db5ff5038f8d3'), 'title': 'The Godfather', 'Score': 9, 'Genre': 'Crime,Drama', 'Date': 1972, 'duree': 175, 'Descriptions': 'The aging patriarch of an organized crime dynasty in postwar New York City transfers control of his clandestine empire to his reluctant youngest son.', 'Acteurs': 'Marlon Brando,Al Pacino,James Caan', 'Public': 'R', 'Pays': 'United States,Color'}\n",
      "{'_id': ObjectId('639ae9489a2db5ff5038f8d4'), 'title': 'The Dark Knight', 'Score': 9, 'Genre': 'Action,Crime,Drama', 'Date': 2008, 'duree': 152, 'Descriptions': 'When the menace known as the Joker wreaks havoc and chaos on the people of Gotham, Batman must accept one of the greatest psychological and physical tests of his ability to fight injustice.', 'Acteurs': 'Christian Bale,Heath Ledger,Aaron Eckhart', 'Public': 'PG-13', 'Pays': 'United States,United Kingdom,Dolby Digital,SDDS,DTS'}\n"
     ]
    }
   ],
   "source": [
    "for elt in reponse_drama:\n",
    "    print(elt)"
   ]
  },
  {
   "cell_type": "markdown",
   "metadata": {},
   "source": [
    "# Parmi les 100 films les mieux notés, quel pourcentage sont américains ? Français ?"
   ]
  },
  {
   "cell_type": "code",
   "execution_count": 24,
   "metadata": {},
   "outputs": [
    {
     "data": {
      "text/plain": [
       "' filmer = filme.find()\\nbest_of100 = filmer.sort(\"Score\",-1).limit(100)\\namericanos = best_of100({\"Pays\" : {\"$regex\" : \"United States\"}}) '"
      ]
     },
     "execution_count": 24,
     "metadata": {},
     "output_type": "execute_result"
    }
   ],
   "source": [
    "\"\"\" filmer = filme.find()\n",
    "best_of100 = filmer.sort(\"Score\",-1).limit(100)\n",
    "americanos = best_of100({\"Pays\" : {\"$regex\" : \"United States\"}}) \"\"\""
   ]
  },
  {
   "cell_type": "code",
   "execution_count": 25,
   "metadata": {},
   "outputs": [],
   "source": [
    "americanos = filme.aggregate([\n",
    "    {\n",
    "        \"$sort\": { \"Score\": -1 }\n",
    "    },\n",
    "    {\n",
    "        \"$limit\": 100\n",
    "    },\n",
    "    {\n",
    "        \"$match\": { \"Pays\": { \"$regex\": \"United States\" } }\n",
    "    },\n",
    "    {\n",
    "        \"$count\": \"United States\"\n",
    "    }\n",
    "])\n"
   ]
  },
  {
   "cell_type": "code",
   "execution_count": 26,
   "metadata": {},
   "outputs": [
    {
     "name": "stdout",
     "output_type": "stream",
     "text": [
      "{'United States': 75}\n",
      "United States\n"
     ]
    }
   ],
   "source": [
    "for elt in americanos:\n",
    "    print(elt)\n",
    "    for rep in elt:\n",
    "        print(rep)"
   ]
  },
  {
   "cell_type": "code",
   "execution_count": 27,
   "metadata": {},
   "outputs": [],
   "source": [
    "Frenchies = filme.aggregate([\n",
    "    {\n",
    "        \"$sort\": { \"Score\": -1 }\n",
    "    },\n",
    "    {\n",
    "        \"$limit\": 100\n",
    "    },\n",
    "    {\n",
    "        \"$match\": { \"Pays\": { \"$regex\": \"France\" } }\n",
    "    },\n",
    "    {\n",
    "        \"$count\": \"France\"\n",
    "    }\n",
    "])"
   ]
  },
  {
   "cell_type": "code",
   "execution_count": 28,
   "metadata": {},
   "outputs": [
    {
     "name": "stdout",
     "output_type": "stream",
     "text": [
      "{'France': 6}\n",
      "France\n"
     ]
    }
   ],
   "source": [
    "for elt in Frenchies:\n",
    "    print(elt)\n",
    "    for rep in elt:\n",
    "        print(rep)"
   ]
  },
  {
   "cell_type": "markdown",
   "metadata": {},
   "source": [
    "# Quel est la durée moyenne d’un film en fonction du genre ?"
   ]
  },
  {
   "cell_type": "code",
   "execution_count": 54,
   "metadata": {},
   "outputs": [],
   "source": [
    "# group by genre , mean voir exemple \n",
    "aze = filme.aggregate([\n",
    "    {\"$unwind\" : \"$Genre\"},\n",
    "    {\"$group\": {\"_id\": \"$Genre\",\"duree\": { \"$avg\": \"$duree\" }}\n",
    "    }])\n",
    "\n",
    "\n"
   ]
  },
  {
   "cell_type": "code",
   "execution_count": 55,
   "metadata": {},
   "outputs": [
    {
     "name": "stdout",
     "output_type": "stream",
     "text": [
      "{'_id': 'Film-Noir,Mystery,Thriller', 'duree': 93.0}\n",
      "{'_id': 'Comedy,Romance,War', 'duree': 99.0}\n",
      "{'_id': 'Drama,Thriller', 'duree': 121.75}\n",
      "{'_id': 'Comedy,Drama,Thriller', 'duree': 122.0}\n",
      "{'_id': 'Adventure,Western', 'duree': 178.0}\n",
      "{'_id': 'Action,Biography,Drama', 'duree': 145.33333333333334}\n",
      "{'_id': 'Adventure,Drama,Thriller', 'duree': 131.0}\n",
      "{'_id': 'Drama,Romance,Thriller', 'duree': 145.0}\n",
      "{'_id': 'Drama,Fantasy', 'duree': 96.0}\n",
      "{'_id': 'Drama,Sport', 'duree': 67.0}\n",
      "{'_id': 'Drama,Family', 'duree': 138.5}\n",
      "{'_id': 'Comedy,Crime,Drama', 'duree': 122.0}\n",
      "{'_id': 'Animation,Comedy,Family', 'duree': 86.0}\n",
      "{'_id': 'Adventure,Drama,Western', 'duree': 126.0}\n",
      "{'_id': 'Adventure,Comedy,Fantasy', 'duree': 91.0}\n",
      "{'_id': 'Comedy,Music,Romance', 'duree': 121.0}\n",
      "{'_id': 'Drama,War', 'duree': 122.57142857142857}\n",
      "{'_id': 'Adventure,Drama', 'duree': 150.5}\n",
      "{'_id': 'Western', 'duree': 148.5}\n",
      "{'_id': 'Crime,Drama,Thriller', 'duree': 124.2}\n",
      "{'_id': 'Crime,Drama,Film-Noir', 'duree': 107.0}\n",
      "{'_id': 'Mystery,Romance,Thriller', 'duree': 128.0}\n",
      "{'_id': 'Comedy,Drama', 'duree': 132.5}\n",
      "{'_id': 'Adventure,Comedy,Crime', 'duree': 99.0}\n",
      "{'_id': 'Crime,Drama', 'duree': 144.28571428571428}\n",
      "{'_id': 'Crime,Drama,Mystery', 'duree': 129.66666666666666}\n",
      "{'_id': 'Drama,Romance,Sci-Fi', 'duree': 108.0}\n",
      "{'_id': 'Comedy,Musical,Romance', 'duree': 103.0}\n",
      "{'_id': 'Action,Drama', 'duree': 167.0}\n",
      "{'_id': 'Biography,Drama,History', 'duree': 154.22222222222223}\n",
      "{'_id': 'Adventure,Biography,Drama', 'duree': 169.33333333333334}\n",
      "{'_id': 'Biography,Drama', 'duree': 129.5}\n",
      "{'_id': 'Action,Drama,Mystery', 'duree': 67.5}\n",
      "{'_id': 'Drama', 'duree': 126.10526315789474}\n",
      "{'_id': 'Comedy,War', 'duree': 95.0}\n",
      "{'_id': 'Comedy,Drama,Romance', 'duree': 103.75}\n",
      "{'_id': 'Biography,Comedy,Drama', 'duree': 121.0}\n",
      "{'_id': 'Crime,Mystery,Thriller', 'duree': 99.0}\n",
      "{'_id': 'Adventure,Sci-Fi', 'duree': 149.0}\n",
      "{'_id': 'Drama,Horror', 'duree': 146.0}\n",
      "{'_id': 'Animation,Adventure,Family', 'duree': 114.0}\n",
      "{'_id': 'Adventure,Thriller', 'duree': 124.0}\n",
      "{'_id': 'Drama,Thriller,War', 'duree': 142.0}\n",
      "{'_id': 'Action,Adventure,Comedy', 'duree': 103.0}\n",
      "{'_id': 'Drama,Film-Noir', 'duree': 110.0}\n",
      "{'_id': 'Drama,Western', 'duree': 147.5}\n",
      "{'_id': 'Comedy,Drama,Family', 'duree': 68.0}\n",
      "{'_id': 'Biography,Comedy,Crime', 'duree': 3.0}\n",
      "{'_id': 'Action,Adventure,Drama', 'duree': 178.8}\n",
      "{'_id': 'Drama,Romance', 'duree': 115.83333333333333}\n",
      "{'_id': 'Comedy,Drama,War', 'duree': 125.0}\n",
      "{'_id': 'Drama,Mystery,Sci-Fi', 'duree': 130.0}\n",
      "{'_id': 'Drama,Family,Fantasy', 'duree': 130.0}\n",
      "{'_id': 'Crime,Drama,Fantasy', 'duree': 189.0}\n",
      "{'_id': 'Action,Comedy,Romance', 'duree': 45.0}\n",
      "{'_id': 'Drama,Mystery,Romance', 'duree': 129.0}\n",
      "{'_id': 'Animation,Drama,Fantasy', 'duree': 106.0}\n",
      "{'_id': 'Comedy,Romance', 'duree': 113.5}\n",
      "{'_id': 'Adventure,Comedy,Sci-Fi', 'duree': 116.0}\n",
      "{'_id': 'Drama,Film-Noir,Mystery', 'duree': 130.0}\n",
      "{'_id': 'Horror', 'duree': 122.0}\n",
      "{'_id': 'Action,Sci-Fi', 'duree': 126.66666666666667}\n",
      "{'_id': 'Animation,Adventure,Comedy', 'duree': 96.9}\n",
      "{'_id': 'Biography,Crime,Drama', 'duree': 137.0}\n",
      "{'_id': 'Drama,Mystery,Thriller', 'duree': 130.75}\n",
      "{'_id': 'Action,Adventure,Fantasy', 'duree': 133.4}\n",
      "{'_id': 'Drama,Sci-Fi', 'duree': 153.0}\n",
      "{'_id': 'Action,Comedy,Crime', 'duree': 107.0}\n",
      "{'_id': 'Action,Crime,Drama', 'duree': 136.6}\n",
      "{'_id': 'Adventure,Drama,War', 'duree': 166.33333333333334}\n",
      "{'_id': 'Mystery,Thriller', 'duree': 121.0}\n",
      "{'_id': 'Drama,Mystery', 'duree': 115.66666666666667}\n",
      "{'_id': 'Adventure,Comedy,Drama', 'duree': 95.0}\n",
      "{'_id': 'Crime,Thriller', 'duree': 100.66666666666667}\n",
      "{'_id': 'Biography,Drama,Music', 'duree': 155.0}\n",
      "{'_id': 'Adventure,Drama,Sci-Fi', 'duree': 169.0}\n",
      "{'_id': 'Animation,Action,Adventure', 'duree': 110.0}\n",
      "{'_id': 'Comedy,Drama,Fantasy', 'duree': 101.0}\n",
      "{'_id': 'Drama,Family,Sport', 'duree': 89.0}\n",
      "{'_id': 'Adventure,Drama,History', 'duree': 172.0}\n",
      "{'_id': 'Drama,Fantasy,War', 'duree': 118.0}\n",
      "{'_id': 'Action,Drama,War', 'duree': 140.5}\n",
      "{'_id': 'Action,Drama,Sci-Fi', 'duree': 128.66666666666666}\n",
      "{'_id': 'Animation,Comedy,Drama', 'duree': 92.0}\n",
      "{'_id': 'Crime,Sci-Fi', 'duree': 136.0}\n",
      "{'_id': 'Animation,Drama,War', 'duree': 89.0}\n",
      "{'_id': 'Drama,Music', 'duree': 106.0}\n",
      "{'_id': 'Animation,Adventure,Drama', 'duree': 88.0}\n",
      "{'_id': 'Action,Adventure,Sci-Fi', 'duree': 112.6}\n",
      "{'_id': 'Action,Adventure', 'duree': 121.0}\n",
      "{'_id': 'Comedy,Crime', 'duree': 109.5}\n",
      "{'_id': 'Adventure,Family,Fantasy', 'duree': 116.0}\n",
      "{'_id': 'Comedy', 'duree': 94.0}\n",
      "{'_id': 'Biography,Drama,Family', 'duree': 132.5}\n",
      "{'_id': 'Action,Thriller', 'duree': 132.0}\n",
      "{'_id': 'Horror,Mystery,Thriller', 'duree': 109.0}\n",
      "{'_id': 'Action,Adventure,Mystery', 'duree': 136.0}\n",
      "{'_id': 'Biography,Drama,Sport', 'duree': 129.0}\n",
      "{'_id': 'Drama,Romance,War', 'duree': 170.0}\n",
      "{'_id': 'Drama,Mystery,War', 'duree': 147.0}\n",
      "{'_id': 'Horror,Sci-Fi', 'duree': 117.0}\n",
      "{'_id': 'Action,Drama,Sport', 'duree': 140.0}\n",
      "{'_id': 'Action,Drama,Thriller', 'duree': 110.0}\n",
      "{'_id': 'Horror,Mystery,Sci-Fi', 'duree': 109.0}\n"
     ]
    }
   ],
   "source": [
    "for i in aze:\n",
    "    print(i)"
   ]
  },
  {
   "cell_type": "code",
   "execution_count": 39,
   "metadata": {},
   "outputs": [
    {
     "name": "stdout",
     "output_type": "stream",
     "text": [
      "{'_id': 'Comedy,Romance,War', 'duree': 99.0}\n",
      "{'_id': 'Drama,Thriller', 'duree': 121.75}\n",
      "{'_id': 'Action,Biography,Drama', 'duree': 145.33333333333334}\n",
      "{'_id': 'Adventure,Western', 'duree': 178.0}\n",
      "{'_id': 'Comedy,Drama,Thriller', 'duree': 122.0}\n",
      "{'_id': 'Film-Noir,Mystery,Thriller', 'duree': 93.0}\n",
      "{'_id': 'Drama,Romance,Thriller', 'duree': 145.0}\n",
      "{'_id': 'Drama,Fantasy', 'duree': 96.0}\n",
      "{'_id': 'Drama,Sport', 'duree': 67.0}\n",
      "{'_id': 'Adventure,Drama,Thriller', 'duree': 131.0}\n",
      "{'_id': 'Drama,Family', 'duree': 138.5}\n",
      "{'_id': 'Comedy,Crime,Drama', 'duree': 122.0}\n",
      "{'_id': 'Animation,Comedy,Family', 'duree': 86.0}\n",
      "{'_id': 'Adventure,Drama,Western', 'duree': 126.0}\n",
      "{'_id': 'Adventure,Comedy,Fantasy', 'duree': 91.0}\n",
      "{'_id': 'Comedy,Music,Romance', 'duree': 121.0}\n",
      "{'_id': 'Drama,War', 'duree': 122.57142857142857}\n",
      "{'_id': 'Adventure,Drama', 'duree': 150.5}\n",
      "{'_id': 'Western', 'duree': 148.5}\n",
      "{'_id': 'Crime,Drama,Thriller', 'duree': 124.2}\n",
      "{'_id': 'Crime,Drama,Film-Noir', 'duree': 107.0}\n",
      "{'_id': 'Mystery,Romance,Thriller', 'duree': 128.0}\n",
      "{'_id': 'Comedy,Drama', 'duree': 132.5}\n",
      "{'_id': 'Adventure,Comedy,Crime', 'duree': 99.0}\n",
      "{'_id': 'Crime,Drama,Mystery', 'duree': 129.66666666666666}\n",
      "{'_id': 'Crime,Drama', 'duree': 144.28571428571428}\n",
      "{'_id': 'Drama,Romance,Sci-Fi', 'duree': 108.0}\n",
      "{'_id': 'Comedy,Musical,Romance', 'duree': 103.0}\n",
      "{'_id': 'Action,Drama', 'duree': 167.0}\n",
      "{'_id': 'Biography,Drama,History', 'duree': 154.22222222222223}\n",
      "{'_id': 'Adventure,Biography,Drama', 'duree': 169.33333333333334}\n",
      "{'_id': 'Biography,Drama', 'duree': 129.5}\n",
      "{'_id': 'Action,Drama,Mystery', 'duree': 67.5}\n",
      "{'_id': 'Drama', 'duree': 126.10526315789474}\n",
      "{'_id': 'Comedy,War', 'duree': 95.0}\n",
      "{'_id': 'Comedy,Drama,Romance', 'duree': 103.75}\n",
      "{'_id': 'Biography,Comedy,Drama', 'duree': 121.0}\n",
      "{'_id': 'Crime,Mystery,Thriller', 'duree': 99.0}\n",
      "{'_id': 'Adventure,Sci-Fi', 'duree': 149.0}\n",
      "{'_id': 'Drama,Horror', 'duree': 146.0}\n",
      "{'_id': 'Animation,Adventure,Family', 'duree': 114.0}\n",
      "{'_id': 'Adventure,Thriller', 'duree': 124.0}\n",
      "{'_id': 'Drama,Thriller,War', 'duree': 142.0}\n",
      "{'_id': 'Action,Adventure,Comedy', 'duree': 103.0}\n",
      "{'_id': 'Drama,Film-Noir', 'duree': 110.0}\n",
      "{'_id': 'Drama,Western', 'duree': 147.5}\n",
      "{'_id': 'Comedy,Drama,Family', 'duree': 68.0}\n",
      "{'_id': 'Biography,Comedy,Crime', 'duree': 3.0}\n",
      "{'_id': 'Action,Adventure,Drama', 'duree': 178.8}\n",
      "{'_id': 'Drama,Romance', 'duree': 115.83333333333333}\n",
      "{'_id': 'Comedy,Drama,War', 'duree': 125.0}\n",
      "{'_id': 'Drama,Mystery,Sci-Fi', 'duree': 130.0}\n",
      "{'_id': 'Drama,Family,Fantasy', 'duree': 130.0}\n",
      "{'_id': 'Crime,Drama,Fantasy', 'duree': 189.0}\n",
      "{'_id': 'Action,Comedy,Romance', 'duree': 45.0}\n",
      "{'_id': 'Drama,Mystery,Romance', 'duree': 129.0}\n",
      "{'_id': 'Animation,Drama,Fantasy', 'duree': 106.0}\n",
      "{'_id': 'Comedy,Romance', 'duree': 113.5}\n",
      "{'_id': 'Adventure,Comedy,Sci-Fi', 'duree': 116.0}\n",
      "{'_id': 'Animation,Adventure,Comedy', 'duree': 96.9}\n",
      "{'_id': 'Horror', 'duree': 122.0}\n",
      "{'_id': 'Action,Sci-Fi', 'duree': 126.66666666666667}\n",
      "{'_id': 'Drama,Film-Noir,Mystery', 'duree': 130.0}\n",
      "{'_id': 'Biography,Crime,Drama', 'duree': 137.0}\n",
      "{'_id': 'Drama,Mystery,Thriller', 'duree': 130.75}\n",
      "{'_id': 'Action,Adventure,Fantasy', 'duree': 133.4}\n",
      "{'_id': 'Drama,Sci-Fi', 'duree': 153.0}\n",
      "{'_id': 'Action,Comedy,Crime', 'duree': 107.0}\n",
      "{'_id': 'Action,Crime,Drama', 'duree': 136.6}\n",
      "{'_id': 'Adventure,Drama,War', 'duree': 166.33333333333334}\n",
      "{'_id': 'Mystery,Thriller', 'duree': 121.0}\n",
      "{'_id': 'Drama,Mystery', 'duree': 115.66666666666667}\n",
      "{'_id': 'Adventure,Comedy,Drama', 'duree': 95.0}\n",
      "{'_id': 'Crime,Thriller', 'duree': 100.66666666666667}\n",
      "{'_id': 'Biography,Drama,Music', 'duree': 155.0}\n",
      "{'_id': 'Adventure,Drama,Sci-Fi', 'duree': 169.0}\n",
      "{'_id': 'Animation,Action,Adventure', 'duree': 110.0}\n",
      "{'_id': 'Comedy,Drama,Fantasy', 'duree': 101.0}\n",
      "{'_id': 'Drama,Family,Sport', 'duree': 89.0}\n",
      "{'_id': 'Adventure,Drama,History', 'duree': 172.0}\n",
      "{'_id': 'Drama,Fantasy,War', 'duree': 118.0}\n",
      "{'_id': 'Action,Drama,War', 'duree': 140.5}\n",
      "{'_id': 'Action,Drama,Sci-Fi', 'duree': 128.66666666666666}\n",
      "{'_id': 'Animation,Comedy,Drama', 'duree': 92.0}\n",
      "{'_id': 'Crime,Sci-Fi', 'duree': 136.0}\n",
      "{'_id': 'Animation,Drama,War', 'duree': 89.0}\n",
      "{'_id': 'Drama,Music', 'duree': 106.0}\n",
      "{'_id': 'Animation,Adventure,Drama', 'duree': 88.0}\n",
      "{'_id': 'Action,Adventure,Sci-Fi', 'duree': 112.6}\n",
      "{'_id': 'Action,Adventure', 'duree': 121.0}\n",
      "{'_id': 'Comedy,Crime', 'duree': 109.5}\n",
      "{'_id': 'Comedy', 'duree': 94.0}\n",
      "{'_id': 'Biography,Drama,Family', 'duree': 132.5}\n",
      "{'_id': 'Adventure,Family,Fantasy', 'duree': 116.0}\n",
      "{'_id': 'Action,Thriller', 'duree': 132.0}\n",
      "{'_id': 'Horror,Mystery,Thriller', 'duree': 109.0}\n",
      "{'_id': 'Action,Adventure,Mystery', 'duree': 136.0}\n",
      "{'_id': 'Biography,Drama,Sport', 'duree': 129.0}\n",
      "{'_id': 'Drama,Romance,War', 'duree': 170.0}\n",
      "{'_id': 'Drama,Mystery,War', 'duree': 147.0}\n",
      "{'_id': 'Horror,Sci-Fi', 'duree': 117.0}\n",
      "{'_id': 'Action,Drama,Sport', 'duree': 140.0}\n",
      "{'_id': 'Action,Drama,Thriller', 'duree': 110.0}\n",
      "{'_id': 'Horror,Mystery,Sci-Fi', 'duree': 109.0}\n"
     ]
    }
   ],
   "source": [
    "for elt in aze:\n",
    "    print(elt)\n"
   ]
  },
  {
   "cell_type": "code",
   "execution_count": 41,
   "metadata": {},
   "outputs": [
    {
     "name": "stdout",
     "output_type": "stream",
     "text": [
      "['Adventure', 'Animation', 'Western', 'Action', 'Music', 'Biography', 'Musical', 'Romance', 'Family', 'War', 'Sport', 'Thriller', 'Fantasy', 'Horror', 'Crime', 'Film-Noir', 'Comedy', 'Sci-Fi', 'Drama', 'History', 'Mystery']\n"
     ]
    }
   ],
   "source": [
    "# maintenant on voudrait repondre a cette question de manière plus commune \n",
    "liste_genre = filme.distinct(\"Genre\")\n",
    "beta = []\n",
    "gamma = []\n",
    "for elt in liste_genre:\n",
    "    beta.append(str(elt).split(','))\n",
    "for element in beta:\n",
    "    for Why in element:\n",
    "        gamma.append(Why)\n",
    "gamma = list(set(gamma))\n",
    "print(gamma)"
   ]
  },
  {
   "cell_type": "code",
   "execution_count": 75,
   "metadata": {},
   "outputs": [
    {
     "name": "stdout",
     "output_type": "stream",
     "text": [
      "24.0    Adventure\n",
      "9.2    Animation\n",
      "2.4    Western\n",
      "20.4    Action\n",
      "2.0    Music\n",
      "11.6    Biography\n",
      "0.4    Musical\n",
      "9.2    Romance\n",
      "5.2    Family\n",
      "8.8    War\n",
      "2.0    Sport\n",
      "12.0    Thriller\n",
      "5.6    Fantasy\n",
      "2.0    Horror\n",
      "20.4    Crime\n",
      "1.6    Film-Noir\n",
      "18.4    Comedy\n",
      "8.0    Sci-Fi\n",
      "70.0    Drama\n",
      "4.0    History\n",
      "12.4    Mystery\n"
     ]
    }
   ],
   "source": [
    "for elt in gamma:\n",
    "    az = filme.count_documents({\"Genre\" : {\"$regex\" : elt}})\n",
    "    print(str((az*100)/250) +'    ' +elt)\n",
    " # cette question n'est pas demandée "
   ]
  },
  {
   "cell_type": "code",
   "execution_count": 74,
   "metadata": {},
   "outputs": [
    {
     "name": "stdout",
     "output_type": "stream",
     "text": [
      "{'_id': 'Adventure', 'avgDuration': 127.45}\n",
      "{'_id': 'Animation', 'avgDuration': 100.95652173913044}\n",
      "{'_id': 'Western', 'avgDuration': 149.33333333333334}\n",
      "{'_id': 'Action', 'avgDuration': 129.2941176470588}\n",
      "{'_id': 'Music', 'avgDuration': 128.0}\n",
      "{'_id': 'Biography', 'avgDuration': 140.9655172413793}\n",
      "{'_id': 'Musical', 'avgDuration': 103.0}\n",
      "{'_id': 'Romance', 'avgDuration': 118.47826086956522}\n",
      "{'_id': 'Family', 'avgDuration': 114.53846153846153}\n",
      "{'_id': 'War', 'avgDuration': 134.6818181818182}\n",
      "{'_id': 'Sport', 'avgDuration': 98.4}\n",
      "{'_id': 'Thriller', 'avgDuration': 121.03333333333333}\n",
      "{'_id': 'Fantasy', 'avgDuration': 123.57142857142857}\n",
      "{'_id': 'Horror', 'avgDuration': 120.6}\n",
      "{'_id': 'Crime', 'avgDuration': 128.31372549019608}\n",
      "{'_id': 'Film-Noir', 'avgDuration': 110.0}\n",
      "{'_id': 'Comedy', 'avgDuration': 102.47826086956522}\n",
      "{'_id': 'Sci-Fi', 'avgDuration': 125.8}\n",
      "{'_id': 'Drama', 'avgDuration': 132.53142857142856}\n",
      "{'_id': 'History', 'avgDuration': 156.0}\n",
      "{'_id': 'Mystery', 'avgDuration': 120.80645161290323}\n"
     ]
    }
   ],
   "source": [
    "for elt in gamma:\n",
    "    pipeline = [\n",
    "        { \"$match\": { \"Genre\": { \"$regex\": elt } } },\n",
    "        {\n",
    "            \"$group\": {\n",
    "                \"_id\": elt,\n",
    "                \"avgDuration\": { \"$avg\": \"$duree\" }\n",
    "            }\n",
    "        }\n",
    "    ]\n",
    "    result = filme.aggregate(pipeline)\n",
    "    for answer in result:\n",
    "        print(answer)\n"
   ]
  }
 ],
 "metadata": {
  "kernelspec": {
   "display_name": "Python 3.9.15 ('potages')",
   "language": "python",
   "name": "python3"
  },
  "language_info": {
   "codemirror_mode": {
    "name": "ipython",
    "version": 3
   },
   "file_extension": ".py",
   "mimetype": "text/x-python",
   "name": "python",
   "nbconvert_exporter": "python",
   "pygments_lexer": "ipython3",
   "version": "3.9.15"
  },
  "orig_nbformat": 4,
  "vscode": {
   "interpreter": {
    "hash": "be4f75b9bd78fe2cc5487b34db8fc5f8c44ba010e3355df68b2359faa8da5069"
   }
  }
 },
 "nbformat": 4,
 "nbformat_minor": 2
}
